{
 "cells": [
  {
   "cell_type": "markdown",
   "metadata": {},
   "source": [
    "# File"
   ]
  },
  {
   "cell_type": "code",
   "execution_count": 189,
   "metadata": {},
   "outputs": [
    {
     "name": "stdout",
     "output_type": "stream",
     "text": [
      "John Doe, jonhdoe@gcustomer.com, customer1\n",
      "\n",
      "Jane Doe, janehdoe@gcustomer.com, customer2\n",
      "\n",
      "Jane Doe, janehdoe@gcustomer.com, customer2\n",
      "\n"
     ]
    }
   ],
   "source": [
    "# w, r, a, r+ \n",
    "\n",
    "file = open('data-users.text', 'w')\n",
    "\n",
    "file.write('Data Users:\\n')\n",
    "\n",
    "data = '{name}, {email}, {password}\\n'.format(\n",
    "    name='John Doe', \n",
    "    email='jonhdoe@gcustomer.com',\n",
    "    password='customer1'\n",
    ")\n",
    "print(data)\n",
    "file.write(data)\n",
    "\n",
    "data = '{name}, {email}, {password}\\n'.format(\n",
    "    name='Jane Doe', \n",
    "    email='janehdoe@gcustomer.com',\n",
    "    password='customer2'\n",
    ")\n",
    "print(data)\n",
    "file.write(data)\n",
    "\n",
    "file.close()\n"
   ]
  },
  {
   "cell_type": "code",
   "execution_count": 190,
   "metadata": {},
   "outputs": [
    {
     "name": "stdout",
     "output_type": "stream",
     "text": [
      "Data Users:\n",
      "John Doe, jonhdoe@gcustomer.com, customer1\n",
      "Jane Doe, janehdoe@gcustomer.com, customer2\n",
      "Jane Doe, janehdoe@gcustomer.com, customer2\n",
      "\n"
     ]
    }
   ],
   "source": [
    "file = open('data-users.text', 'r')\n",
    "data = file.read()\n",
    "print(data)\n",
    "file.close()"
   ]
  },
  {
   "cell_type": "code",
   "execution_count": 191,
   "metadata": {},
   "outputs": [
    {
     "name": "stdout",
     "output_type": "stream",
     "text": [
      "Data Users:\n",
      "\n",
      "John Doe, jonhdoe@gcustomer.com, customer1\n",
      "\n",
      "Jane Doe, janehdoe@gcustomer.com, customer2\n",
      "\n"
     ]
    }
   ],
   "source": [
    "file = open('data-users.text', 'r')\n",
    "data = file.readline()\n",
    "print(data)\n",
    "data = file.readline()\n",
    "print(data)\n",
    "data = file.readline()\n",
    "print(data)\n",
    "file.close()"
   ]
  },
  {
   "cell_type": "code",
   "execution_count": 192,
   "metadata": {},
   "outputs": [
    {
     "name": "stdout",
     "output_type": "stream",
     "text": [
      "Data Users:\n",
      "\n",
      "John Doe, jonhdoe@gcustomer.com, customer1\n",
      "\n",
      "Jane Doe, janehdoe@gcustomer.com, customer2\n",
      "\n",
      "Jane Doe, janehdoe@gcustomer.com, customer2\n",
      "\n"
     ]
    }
   ],
   "source": [
    "file = open('data-users.text', 'r')\n",
    "for line in file:\n",
    "    print(line)"
   ]
  }
 ],
 "metadata": {
  "interpreter": {
   "hash": "aee8b7b246df8f9039afb4144a1f6fd8d2ca17a180786b69acc140d282b71a49"
  },
  "kernelspec": {
   "display_name": "Python 3.9.6 64-bit",
   "language": "python",
   "name": "python3"
  },
  "language_info": {
   "name": "python",
   "version": "3.9.6"
  },
  "orig_nbformat": 4
 },
 "nbformat": 4,
 "nbformat_minor": 2
}
