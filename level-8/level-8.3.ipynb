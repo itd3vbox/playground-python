{
 "cells": [
  {
   "cell_type": "markdown",
   "metadata": {},
   "source": [
    "# SQL Lite"
   ]
  },
  {
   "cell_type": "code",
   "execution_count": 1,
   "metadata": {},
   "outputs": [],
   "source": [
    "import sqlite3\n",
    "\n",
    "con = sqlite3.connect('database.sqlite')"
   ]
  },
  {
   "cell_type": "code",
   "execution_count": 2,
   "metadata": {},
   "outputs": [],
   "source": [
    "cur = con.cursor()"
   ]
  },
  {
   "cell_type": "code",
   "execution_count": 3,
   "metadata": {},
   "outputs": [
    {
     "data": {
      "text/plain": [
       "<sqlite3.Cursor at 0x108ed3500>"
      ]
     },
     "execution_count": 3,
     "metadata": {},
     "output_type": "execute_result"
    }
   ],
   "source": [
    "cur.execute('''\n",
    "    DROP TABLE IF EXISTS items\n",
    "''')\n",
    "\n",
    "cur.execute('''\n",
    "    CREATE TABLE items (\n",
    "\n",
    "        name VARCHAR(40), \n",
    "        description TEXT, \n",
    "        quantity FLOAT, \n",
    "        price FLOAT,\n",
    "\n",
    "        created_at DATETIME DEFAULT CURRENT_TIMESTAMP,\n",
    "        updated_at DATETIME DEFAULT CURRENT_TIMESTAMP,\n",
    "\n",
    "        id INTEGER PRIMARY KEY AUTOINCREMENT\n",
    "\n",
    "    )\n",
    "''')\n"
   ]
  },
  {
   "cell_type": "code",
   "execution_count": 4,
   "metadata": {},
   "outputs": [
    {
     "data": {
      "text/plain": [
       "<sqlite3.Cursor at 0x108ed3500>"
      ]
     },
     "execution_count": 4,
     "metadata": {},
     "output_type": "execute_result"
    }
   ],
   "source": [
    "cur.execute(\n",
    "    '''\n",
    "        INSERT INTO \n",
    "            items (name, description, quantity, price)\n",
    "        VALUES\n",
    "            (?, ?, ?, ?)\n",
    "    ''', \n",
    "    (\n",
    "        'T-Shirt', 'T-Shirt ...', 10, 1.99\n",
    "    )\n",
    ")"
   ]
  },
  {
   "cell_type": "code",
   "execution_count": 6,
   "metadata": {},
   "outputs": [
    {
     "data": {
      "text/plain": [
       "<sqlite3.Cursor at 0x108ed3500>"
      ]
     },
     "execution_count": 6,
     "metadata": {},
     "output_type": "execute_result"
    }
   ],
   "source": [
    "items = [\n",
    "    ('Short', 'Short ...', 10, 4.99),\n",
    "    ('Cap', 'Cap ...', 10, 1.99),\n",
    "]\n",
    "\n",
    "cur.executemany('''\n",
    "    INSERT INTO \n",
    "        items (name, description, quantity, price)\n",
    "    VALUES\n",
    "        (?, ?, ?, ?)\n",
    "''', items)"
   ]
  },
  {
   "cell_type": "code",
   "execution_count": 7,
   "metadata": {},
   "outputs": [
    {
     "data": {
      "text/plain": [
       "<sqlite3.Cursor at 0x108ed3500>"
      ]
     },
     "execution_count": 7,
     "metadata": {},
     "output_type": "execute_result"
    }
   ],
   "source": [
    "cur.executemany('''\n",
    "    INSERT INTO \n",
    "        items (name, description, quantity, price)\n",
    "    VALUES\n",
    "        (?, ?, ?, ?)\n",
    "''', items)"
   ]
  },
  {
   "cell_type": "code",
   "execution_count": 8,
   "metadata": {},
   "outputs": [
    {
     "name": "stdout",
     "output_type": "stream",
     "text": [
      "('T-Shirt', 'T-Shirt ...', 10.0, 1.99, '2022-01-30 10:04:04', '2022-01-30 10:04:04', 1)\n",
      "('Short', 'Short ...', 10.0, 4.99, '2022-01-30 10:04:26', '2022-01-30 10:04:26', 2)\n",
      "('Cap', 'Cap ...', 10.0, 1.99, '2022-01-30 10:04:26', '2022-01-30 10:04:26', 3)\n",
      "('Short', 'Short ...', 10.0, 4.99, '2022-01-30 10:05:26', '2022-01-30 10:05:26', 4)\n",
      "('Cap', 'Cap ...', 10.0, 1.99, '2022-01-30 10:05:26', '2022-01-30 10:05:26', 5)\n",
      "('Short', 'Short ...', 10.0, 4.99, '2022-01-30 10:05:40', '2022-01-30 10:05:40', 6)\n",
      "('Cap', 'Cap ...', 10.0, 1.99, '2022-01-30 10:05:40', '2022-01-30 10:05:40', 7)\n"
     ]
    }
   ],
   "source": [
    "cur.execute('''\n",
    "    SELECT * FROM items\n",
    "''')\n",
    "\n",
    "items = cur.fetchall()\n",
    "for item in items:\n",
    "    print(item)"
   ]
  },
  {
   "cell_type": "code",
   "execution_count": 9,
   "metadata": {},
   "outputs": [
    {
     "name": "stdout",
     "output_type": "stream",
     "text": [
      "('T-Shirt', 'T-Shirt ...', 10.0, 1.99, '2022-01-30 10:04:04', '2022-01-30 10:04:04', 1)\n"
     ]
    }
   ],
   "source": [
    "cur.execute('''\n",
    "    SELECT * FROM items \n",
    "        WHERE name = :data_name\n",
    "''', { 'data_name': 'T-Shirt' })\n",
    "\n",
    "item = cur.fetchone()\n",
    "\n",
    "print(item)"
   ]
  },
  {
   "cell_type": "code",
   "execution_count": 10,
   "metadata": {},
   "outputs": [],
   "source": [
    "con.close()"
   ]
  }
 ],
 "metadata": {
  "interpreter": {
   "hash": "aee8b7b246df8f9039afb4144a1f6fd8d2ca17a180786b69acc140d282b71a49"
  },
  "kernelspec": {
   "display_name": "Python 3.9.6 64-bit",
   "language": "python",
   "name": "python3"
  },
  "language_info": {
   "codemirror_mode": {
    "name": "ipython",
    "version": 3
   },
   "file_extension": ".py",
   "mimetype": "text/x-python",
   "name": "python",
   "nbconvert_exporter": "python",
   "pygments_lexer": "ipython3",
   "version": "3.9.6"
  },
  "orig_nbformat": 4
 },
 "nbformat": 4,
 "nbformat_minor": 2
}
