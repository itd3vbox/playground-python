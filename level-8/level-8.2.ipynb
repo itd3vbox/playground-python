{
 "cells": [
  {
   "cell_type": "markdown",
   "metadata": {},
   "source": [
    "# JSON"
   ]
  },
  {
   "cell_type": "code",
   "execution_count": 24,
   "metadata": {},
   "outputs": [
    {
     "name": "stdout",
     "output_type": "stream",
     "text": [
      "[\n",
      "    {\n",
      "        \"name\": \"Black Friday\",\n",
      "        \"description\": \"...\",\n",
      "        \"rate\": 49.99 \n",
      "    },\n",
      "    {\n",
      "        \"name\": \"Winter Sale\",\n",
      "        \"description\": \"...\",\n",
      "        \"rate\": 19.99 \n",
      "    },\n",
      "    {\n",
      "        \"name\": \"Sping Sale\",\n",
      "        \"description\": \"...\",\n",
      "        \"rate\": 9.99 \n",
      "    },\n",
      "    {\n",
      "        \"name\": \"Summer Sale\",\n",
      "        \"description\": \"...\",\n",
      "        \"rate\": 9.99 \n",
      "    }\n",
      "]\n"
     ]
    }
   ],
   "source": [
    "import json\n",
    "\n",
    "file = open('data-discounts.json', 'r')\n",
    "data = file.read()\n",
    "print(data)\n",
    "file.close()"
   ]
  },
  {
   "cell_type": "code",
   "execution_count": 25,
   "metadata": {},
   "outputs": [
    {
     "name": "stdout",
     "output_type": "stream",
     "text": [
      "[{'name': 'Black Friday', 'description': '...', 'rate': 49.99}, {'name': 'Winter Sale', 'description': '...', 'rate': 19.99}, {'name': 'Sping Sale', 'description': '...', 'rate': 9.99}, {'name': 'Summer Sale', 'description': '...', 'rate': 9.99}] \n",
      "\n",
      "Black Friday\n"
     ]
    }
   ],
   "source": [
    "file = open('data-discounts.json', 'r')\n",
    "\n",
    "data = json.load(file)\n",
    "\n",
    "print(data, '\\n') # array, dictionary \n",
    "\n",
    "print(data[0]['name'])\n",
    "\n",
    "file.close()"
   ]
  },
  {
   "cell_type": "code",
   "execution_count": 26,
   "metadata": {},
   "outputs": [
    {
     "name": "stdout",
     "output_type": "stream",
     "text": [
      "[{'name': 'Black Friday', 'description': '...', 'rate': 49.99}, {'name': 'Winter Sale', 'description': '...', 'rate': 19.99}, {'name': 'Sping Sale', 'description': '...', 'rate': 9.99}, {'name': 'Summer Sale', 'description': '...', 'rate': 9.99}] \n",
      "\n",
      "[{\"name\": \"Test\", \"description\": \"...\", \"rate\": 49.99}, {\"name\": \"Winter Sale\", \"description\": \"...\", \"rate\": 19.99}, {\"name\": \"Sping Sale\", \"description\": \"...\", \"rate\": 9.99}, {\"name\": \"Summer Sale\", \"description\": \"...\", \"rate\": 9.99}]\n"
     ]
    }
   ],
   "source": [
    "file = open('data-discounts.json', 'r')\n",
    "\n",
    "data = json.load(file)\n",
    "print(data, '\\n') # array, dictionary \n",
    "\n",
    "data_string = json.dumps(data)\n",
    "print(data_string) # string, text\n",
    "\n",
    "# write ...\n",
    "\n",
    "file.close()"
   ]
  },
  {
   "cell_type": "code",
   "execution_count": 29,
   "metadata": {},
   "outputs": [
    {
     "name": "stdout",
     "output_type": "stream",
     "text": [
      "[{'name': 'Black Friday', 'description': '...', 'rate': 49.99}, {'name': 'Winter Sale', 'description': '...', 'rate': 19.99}, {'name': 'Sping Sale', 'description': '...', 'rate': 9.99}, {'name': 'Summer Sale', 'description': '...', 'rate': 9.99}] \n",
      "\n"
     ]
    }
   ],
   "source": [
    "file = open('data-discounts.json', 'r')\n",
    "\n",
    "data = json.load(file)\n",
    "print(data, '\\n') # array, dictionary \n",
    "\n",
    "file = file.close()\n",
    "\n",
    "file = open('data-discounts-new.json', 'r+')\n",
    "\n",
    "data.append({\n",
    "    'name': 'Good Custumer', \n",
    "    'description': '...',\n",
    "    'rate': 1.99\n",
    "})\n",
    "\n",
    "# json.dump(data, file, indent=4, sort_keys=True)\n",
    "json.dump(data, file)\n",
    "\n",
    "file.close()"
   ]
  }
 ],
 "metadata": {
  "interpreter": {
   "hash": "aee8b7b246df8f9039afb4144a1f6fd8d2ca17a180786b69acc140d282b71a49"
  },
  "kernelspec": {
   "display_name": "Python 3.9.6 64-bit",
   "language": "python",
   "name": "python3"
  },
  "language_info": {
   "codemirror_mode": {
    "name": "ipython",
    "version": 3
   },
   "file_extension": ".py",
   "mimetype": "text/x-python",
   "name": "python",
   "nbconvert_exporter": "python",
   "pygments_lexer": "ipython3",
   "version": "3.9.6"
  },
  "orig_nbformat": 4
 },
 "nbformat": 4,
 "nbformat_minor": 2
}
