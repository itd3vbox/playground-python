{
 "cells": [
  {
   "cell_type": "markdown",
   "metadata": {},
   "source": [
    "# Functions"
   ]
  },
  {
   "cell_type": "code",
   "execution_count": 5,
   "metadata": {},
   "outputs": [
    {
     "name": "stdout",
     "output_type": "stream",
     "text": [
      "['T-Shirt']\n",
      "[]\n",
      "['Shirt']\n",
      "[]\n",
      "['Short']\n",
      "[]\n",
      "['Hat']\n",
      "[]\n"
     ]
    }
   ],
   "source": [
    "items = []\n",
    "\n",
    "def add_item(items, item):\n",
    "    items = items + [item]\n",
    "    print(items)\n",
    "\n",
    "\n",
    "\n",
    "add_item(items, 'T-Shirt')\n",
    "print(items)\n",
    "\n",
    "add_item(items, 'Shirt')\n",
    "print(items)\n",
    "\n",
    "add_item(items, 'Short')\n",
    "print(items, '\\n')\n",
    "\n",
    "add_item(items, 'Hat')\n",
    "print(items, '\\n')\n"
   ]
  },
  {
   "cell_type": "code",
   "execution_count": 1,
   "metadata": {},
   "outputs": [
    {
     "name": "stdout",
     "output_type": "stream",
     "text": [
      "['T-Shirt']\n",
      "['T-Shirt'] \n",
      "\n",
      "['T-Shirt', 'Shirt']\n",
      "['T-Shirt', 'Shirt'] \n",
      "\n",
      "['T-Shirt', 'Shirt', 'Short']\n",
      "['T-Shirt', 'Shirt', 'Short'] \n",
      "\n",
      "['T-Shirt', 'Shirt', 'Short', 'Hat']\n",
      "['T-Shirt', 'Shirt', 'Short', 'Hat'] \n",
      "\n"
     ]
    }
   ],
   "source": [
    "items = []\n",
    "\n",
    "def add_item(items, item):\n",
    "    items = items + [item]\n",
    "    print(items)\n",
    "    return items\n",
    "\n",
    "items = add_item(items, 'T-Shirt')\n",
    "print(items, '\\n')\n",
    "\n",
    "items = add_item(items, 'Shirt')\n",
    "print(items, '\\n')\n",
    "\n",
    "items = add_item(items, 'Short')\n",
    "print(items, '\\n')\n",
    "\n",
    "items = add_item(items, 'Hat')\n",
    "print(items, '\\n')"
   ]
  }
 ],
 "metadata": {
  "interpreter": {
   "hash": "aee8b7b246df8f9039afb4144a1f6fd8d2ca17a180786b69acc140d282b71a49"
  },
  "kernelspec": {
   "display_name": "Python 3.9.6 64-bit",
   "language": "python",
   "name": "python3"
  },
  "language_info": {
   "codemirror_mode": {
    "name": "ipython",
    "version": 3
   },
   "file_extension": ".py",
   "mimetype": "text/x-python",
   "name": "python",
   "nbconvert_exporter": "python",
   "pygments_lexer": "ipython3",
   "version": "3.9.6"
  },
  "orig_nbformat": 4
 },
 "nbformat": 4,
 "nbformat_minor": 2
}
