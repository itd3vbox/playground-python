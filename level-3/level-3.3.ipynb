{
 "cells": [
  {
   "cell_type": "markdown",
   "metadata": {},
   "source": [
    "# Control Flow"
   ]
  },
  {
   "cell_type": "code",
   "execution_count": 3,
   "metadata": {},
   "outputs": [
    {
     "name": "stdout",
     "output_type": "stream",
     "text": [
      "You do not have enough!\n"
     ]
    }
   ],
   "source": [
    "items_total = 2\n",
    "\n",
    "if items_total < 10 :\n",
    "    print('You do not have enough!') \n",
    "\n",
    "elif items_total >= 10 and items_total <= 10 :\n",
    "    print('You can have discount')\n",
    "\n",
    "else:\n",
    "    print('You can have a Big Discount')"
   ]
  },
  {
   "cell_type": "code",
   "execution_count": null,
   "metadata": {},
   "outputs": [],
   "source": [
    "# Need Python Version >= 3.10 \n",
    "\n",
    "# discount_type = 3\n",
    "\n",
    "# match discount_type:\n",
    "#     case 1:\n",
    "#         print('Discount 1%')\n",
    "#     case 2:\n",
    "#         print('Discount 1%')\n",
    "#     case _:\n",
    "#         print('No Discount')"
   ]
  }
 ],
 "metadata": {
  "interpreter": {
   "hash": "aee8b7b246df8f9039afb4144a1f6fd8d2ca17a180786b69acc140d282b71a49"
  },
  "kernelspec": {
   "display_name": "Python 3.9.6 64-bit",
   "language": "python",
   "name": "python3"
  },
  "language_info": {
   "codemirror_mode": {
    "name": "ipython",
    "version": 3
   },
   "file_extension": ".py",
   "mimetype": "text/x-python",
   "name": "python",
   "nbconvert_exporter": "python",
   "pygments_lexer": "ipython3",
   "version": "3.9.6"
  },
  "orig_nbformat": 4
 },
 "nbformat": 4,
 "nbformat_minor": 2
}
