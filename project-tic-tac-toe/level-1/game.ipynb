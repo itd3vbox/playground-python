{
 "cells": [
  {
   "cell_type": "code",
   "execution_count": 32,
   "metadata": {},
   "outputs": [],
   "source": [
    "def board_create():\n",
    "    board = []\n",
    "    for index in range(9):\n",
    "        board.append('-')\n",
    "    return board\n",
    "\n",
    "def board_show(board):\n",
    "    str = ''\n",
    "    for index in range(len(board)):\n",
    "        str = str + '[{0}]'.format(board[index])\n",
    "        if((index + 1) % 3 == 0):\n",
    "            str = str + '\\n'\n",
    "    print(str)\n",
    "\n",
    "def board_has_winner(board):\n",
    "\n",
    "    # rows\n",
    "    if(board[0] != '-' and board[0] == board[1] and board[1] == board[2]):\n",
    "        return (True, board[0])\n",
    "\n",
    "    if(board[3] != '-' and board[3] == board[4] and board[4] == board[5]):\n",
    "        return (True, board[3])\n",
    "\n",
    "    if(board[6] != '-' and board[6] == board[7] and board[7] == board[8]):\n",
    "        return (True, board[6])\n",
    "\n",
    "    # columns\n",
    "    if(board[0] != '-' and board[0] == board[3] and board[3] == board[6]):\n",
    "        return (True, board[0])\n",
    "\n",
    "    if(board[1] != '-' and board[1] == board[4] and board[4] == board[7]):\n",
    "        return (True, board[1])\n",
    "\n",
    "    if(board[2] != '-' and board[2] == board[5] and board[5] == board[8]):\n",
    "        return (True, board[2])\n",
    "\n",
    "    # diagonals\n",
    "    if(board[0] != '-' and board[0] == board[4] and board[4] == board[8]):\n",
    "        return (True, board[0])\n",
    "\n",
    "    if(board[2] != '-' and board[2] == board[4] and board[4] == board[6]):\n",
    "        return (True, board[2])\n",
    "\n",
    "    return (False, '-')\n",
    "\n",
    "def board_get_index(row, col):\n",
    "\n",
    "    if(row > 3 or col > 3):\n",
    "        raise NameError('Row and Column values must be less or equal than 3!')\n",
    "\n",
    "    if(row < 1 or col < 1):\n",
    "        raise NameError('Row and Column values must be more or equal than 1!')\n",
    "\n",
    "    start_index = 0\n",
    "\n",
    "    if(row == 2):\n",
    "        start_index = 3\n",
    "    if(row == 3):\n",
    "        start_index = 6\n",
    "    \n",
    "    index = start_index + (col - 1)\n",
    "\n",
    "    return index\n",
    "\n",
    "\n",
    "def board_put_token(board, index, token):\n",
    "    if(board[index] == '-'):\n",
    "        board[index] = token\n",
    "    else:\n",
    "        raise NameError('Have already a token!')\n",
    "    return board\n",
    "\n",
    "def board_get_token(rounds):\n",
    "    if(rounds % 2 != 0):\n",
    "        return 'X'\n",
    "    else:\n",
    "        return 'O'\n",
    "    \n"
   ]
  },
  {
   "cell_type": "code",
   "execution_count": 33,
   "metadata": {},
   "outputs": [
    {
     "name": "stdout",
     "output_type": "stream",
     "text": [
      "[-][-][-]\n",
      "[-][-][-]\n",
      "[-][-][-]\n",
      "\n"
     ]
    }
   ],
   "source": [
    "game_board = board_create()\n",
    "board_show(game_board)\n"
   ]
  },
  {
   "cell_type": "code",
   "execution_count": 34,
   "metadata": {},
   "outputs": [
    {
     "name": "stdout",
     "output_type": "stream",
     "text": [
      "8\n"
     ]
    }
   ],
   "source": [
    "game_board = [\n",
    "    '0', '1', '2',\n",
    "    '3', '4', '5',\n",
    "    '6', '7', '8'\n",
    "]\n",
    "\n",
    "game_board_single_line = ['0', '1', '2', '3', '4', '5', '6', '7', '8']\n",
    "\n",
    "index = board_get_index(3, 3)\n",
    "print(index)"
   ]
  },
  {
   "cell_type": "code",
   "execution_count": 35,
   "metadata": {},
   "outputs": [
    {
     "name": "stdout",
     "output_type": "stream",
     "text": [
      "True O\n"
     ]
    }
   ],
   "source": [
    "# Test - Combinaison\n",
    "\n",
    "# 'X', 'O', '-',\n",
    "# '-', 'X', '-',\n",
    "# '-', 'O', 'X'\n",
    "\n",
    "# Test - Combinaison\n",
    "\n",
    "# 'O', 'X', 'O',\n",
    "# '-', 'X', 'O',\n",
    "# '-', 'X', '-'\n",
    "\n",
    "# Test - Combinaison\n",
    "\n",
    "# '-', 'X', 'X',\n",
    "# '-', 'X', '-',\n",
    "# 'O', 'O', 'O'\n",
    "\n",
    "game_board = [\n",
    "    '-', 'X', 'X',\n",
    "    '-', 'X', '-',\n",
    "    'O', 'O', 'O'\n",
    "]\n",
    "has_winner, winner_token = board_has_winner(game_board)\n",
    "print(has_winner, winner_token)"
   ]
  },
  {
   "cell_type": "code",
   "execution_count": 36,
   "metadata": {},
   "outputs": [
    {
     "name": "stdout",
     "output_type": "stream",
     "text": [
      "- X X\n",
      "- X -\n",
      "O O O\n"
     ]
    }
   ],
   "source": [
    "game_board = [\n",
    "    '-', 'X', 'X',\n",
    "    '-', 'X', '-',\n",
    "    'O', 'O', '-'\n",
    "]\n",
    "\n",
    "board_put_token(game_board, 8, 'O')\n",
    "\n",
    "print(game_board[0], game_board[1], game_board[2])\n",
    "print(game_board[3], game_board[4], game_board[5])\n",
    "print(game_board[6], game_board[7], game_board[8])\n"
   ]
  },
  {
   "cell_type": "code",
   "execution_count": 37,
   "metadata": {},
   "outputs": [
    {
     "name": "stdout",
     "output_type": "stream",
     "text": [
      "X\n"
     ]
    }
   ],
   "source": [
    "token = board_get_token(1)\n",
    "print(token)"
   ]
  },
  {
   "cell_type": "code",
   "execution_count": 40,
   "metadata": {},
   "outputs": [],
   "source": [
    "def play():\n",
    "\n",
    "    game_board = board_create()\n",
    "    game_rounds = 1\n",
    "    has_winner = False\n",
    "    winner_token = '-'\n",
    "\n",
    "    board_show(game_board)\n",
    "\n",
    "    while (has_winner != True):\n",
    "        \n",
    "        row = input('Choose the line:') # give a string\n",
    "        row = int(row) # convert string to integer\n",
    "\n",
    "        col = input('Choose the column:') # give a string\n",
    "        col = int(col) # convert string to integer\n",
    "\n",
    "        token = board_get_token(game_rounds) \n",
    "\n",
    "        try:\n",
    "\n",
    "            index = board_get_index(row, col)\n",
    "\n",
    "            board_put_token(game_board, index, token)\n",
    "\n",
    "            board_show(game_board)\n",
    "\n",
    "            has_winner, winner_token = board_has_winner(game_board)\n",
    "\n",
    "            if(has_winner):\n",
    "                print('We have a winner!')\n",
    "                print('Winner: ', winner_token)\n",
    "                print('Win in ', game_rounds, ' rounds!')\n",
    "\n",
    "            game_rounds = game_rounds + 1\n",
    "\n",
    "        except NameError as e:\n",
    "            print('Error: ', e)"
   ]
  },
  {
   "cell_type": "code",
   "execution_count": 41,
   "metadata": {},
   "outputs": [
    {
     "name": "stdout",
     "output_type": "stream",
     "text": [
      "[-][-][-]\n",
      "[-][-][-]\n",
      "[-][-][-]\n",
      "\n",
      "[X][-][-]\n",
      "[-][-][-]\n",
      "[-][-][-]\n",
      "\n",
      "[X][-][-]\n",
      "[-][O][-]\n",
      "[-][-][-]\n",
      "\n",
      "[X][-][-]\n",
      "[-][O][-]\n",
      "[-][-][X]\n",
      "\n",
      "[X][O][-]\n",
      "[-][O][-]\n",
      "[-][-][X]\n",
      "\n",
      "[X][O][-]\n",
      "[X][O][-]\n",
      "[-][-][X]\n",
      "\n",
      "[X][O][-]\n",
      "[X][O][-]\n",
      "[-][O][X]\n",
      "\n",
      "We have a winner!\n",
      "Winner:  O\n",
      "Win in  6  rounds!\n"
     ]
    }
   ],
   "source": [
    "play()"
   ]
  }
 ],
 "metadata": {
  "interpreter": {
   "hash": "aee8b7b246df8f9039afb4144a1f6fd8d2ca17a180786b69acc140d282b71a49"
  },
  "kernelspec": {
   "display_name": "Python 3.9.6 64-bit",
   "language": "python",
   "name": "python3"
  },
  "language_info": {
   "codemirror_mode": {
    "name": "ipython",
    "version": 3
   },
   "file_extension": ".py",
   "mimetype": "text/x-python",
   "name": "python",
   "nbconvert_exporter": "python",
   "pygments_lexer": "ipython3",
   "version": "3.9.6"
  },
  "orig_nbformat": 4
 },
 "nbformat": 4,
 "nbformat_minor": 2
}
