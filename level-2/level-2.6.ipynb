{
 "cells": [
  {
   "cell_type": "markdown",
   "metadata": {},
   "source": [
    "# "
   ]
  },
  {
   "cell_type": "markdown",
   "metadata": {},
   "source": [
    "# Dictionary"
   ]
  },
  {
   "cell_type": "code",
   "execution_count": 1,
   "metadata": {},
   "outputs": [
    {
     "name": "stdout",
     "output_type": "stream",
     "text": [
      "{'name': 'T-Shirt', 'price': 1.99, 'color': 'Black', 'quantity': 10}\n",
      "{'name': 'T-Shirt', 'price': 1.99, 'color': 'White', 'quantity': 10}\n",
      "{'name': 'T-Shirt', 'price': 1.99, 'color': 'Orange', 'quantity': 10}\n"
     ]
    }
   ],
   "source": [
    "item_1 = {\n",
    "    'name': 'T-Shirt',\n",
    "    'price': 1.99,\n",
    "    'color': 'Black',\n",
    "    'quantity': 10,\n",
    "}\n",
    "\n",
    "item_2 = {\n",
    "    'name': 'T-Shirt',\n",
    "    'price': 1.99,\n",
    "    'color': 'White',\n",
    "    'quantity': 10,\n",
    "}\n",
    "\n",
    "item_3 = {\n",
    "    'name': 'T-Shirt',\n",
    "    'price': 1.99,\n",
    "    'color': 'Orange',\n",
    "    'quantity': 10,\n",
    "}\n",
    "\n",
    "print(item_1)\n",
    "print(item_2)\n",
    "print(item_3)"
   ]
  },
  {
   "cell_type": "code",
   "execution_count": 3,
   "metadata": {},
   "outputs": [
    {
     "name": "stdout",
     "output_type": "stream",
     "text": [
      "T-Shirt 1.99 Black 10\n"
     ]
    }
   ],
   "source": [
    "print(item_1['name'], item_1['price'], item_1['color'], item_1['quantity'])"
   ]
  },
  {
   "cell_type": "code",
   "execution_count": 4,
   "metadata": {},
   "outputs": [
    {
     "name": "stdout",
     "output_type": "stream",
     "text": [
      "{'name': 'T-Shirt', 'price': 1.99, 'color': 'Black', 'quantity': 10, 'test': 'Test'}\n"
     ]
    }
   ],
   "source": [
    "item_1['test'] = 'Test'\n",
    "print(item_1)"
   ]
  },
  {
   "cell_type": "code",
   "execution_count": 5,
   "metadata": {},
   "outputs": [
    {
     "name": "stdout",
     "output_type": "stream",
     "text": [
      "{'name': 'T-Shirt', 'price': 1.99, 'color': 'Black', 'quantity': 10}\n"
     ]
    }
   ],
   "source": [
    "del item_1['test']\n",
    "print(item_1)"
   ]
  },
  {
   "cell_type": "code",
   "execution_count": 6,
   "metadata": {},
   "outputs": [
    {
     "data": {
      "text/plain": [
       "True"
      ]
     },
     "execution_count": 6,
     "metadata": {},
     "output_type": "execute_result"
    }
   ],
   "source": [
    "'name' in item_1"
   ]
  },
  {
   "cell_type": "code",
   "execution_count": 7,
   "metadata": {},
   "outputs": [
    {
     "data": {
      "text/plain": [
       "False"
      ]
     },
     "execution_count": 7,
     "metadata": {},
     "output_type": "execute_result"
    }
   ],
   "source": [
    "'T-Shirt' in item_1"
   ]
  },
  {
   "cell_type": "code",
   "execution_count": 8,
   "metadata": {},
   "outputs": [
    {
     "data": {
      "text/plain": [
       "True"
      ]
     },
     "execution_count": 8,
     "metadata": {},
     "output_type": "execute_result"
    }
   ],
   "source": [
    "'T-Shirt' not in item_1"
   ]
  }
 ],
 "metadata": {
  "interpreter": {
   "hash": "aee8b7b246df8f9039afb4144a1f6fd8d2ca17a180786b69acc140d282b71a49"
  },
  "kernelspec": {
   "display_name": "Python 3.9.6 64-bit",
   "language": "python",
   "name": "python3"
  },
  "language_info": {
   "codemirror_mode": {
    "name": "ipython",
    "version": 3
   },
   "file_extension": ".py",
   "mimetype": "text/x-python",
   "name": "python",
   "nbconvert_exporter": "python",
   "pygments_lexer": "ipython3",
   "version": "3.9.6"
  },
  "orig_nbformat": 4
 },
 "nbformat": 4,
 "nbformat_minor": 2
}
