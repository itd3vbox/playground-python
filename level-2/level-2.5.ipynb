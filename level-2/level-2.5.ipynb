{
 "cells": [
  {
   "cell_type": "markdown",
   "metadata": {},
   "source": [
    "# List"
   ]
  },
  {
   "cell_type": "code",
   "execution_count": 1,
   "metadata": {},
   "outputs": [
    {
     "name": "stdout",
     "output_type": "stream",
     "text": [
      "['T-Shirt', 'Short', 'Cap', 'Jacket']\n",
      "[1.99, 4.99, 2.99, 49.99]\n"
     ]
    }
   ],
   "source": [
    "items_names = ['T-Shirt', 'Short', 'Cap', 'Jacket']\n",
    "items_prices = [1.99, 4.99, 2.99, 49.99]\n",
    "\n",
    "print(items_names)\n",
    "print(items_prices)"
   ]
  },
  {
   "cell_type": "code",
   "execution_count": 13,
   "metadata": {},
   "outputs": [
    {
     "name": "stdout",
     "output_type": "stream",
     "text": [
      "T-Shirt\n",
      "1.99\n"
     ]
    }
   ],
   "source": [
    "print(items_names[0])\n",
    "print(items_prices[0])"
   ]
  },
  {
   "cell_type": "code",
   "execution_count": 2,
   "metadata": {},
   "outputs": [
    {
     "name": "stdout",
     "output_type": "stream",
     "text": [
      "['T-Shirt', 'Short', 'Cap', 'Jacket', 'Socks', 'Shirt']\n",
      "[1.99, 4.99, 2.99, 49.99, '0.99', '1.99']\n"
     ]
    }
   ],
   "source": [
    "# Concatanation\n",
    "items_names = items_names + ['Socks', 'Shirt']\n",
    "items_prices = items_prices + ['0.99', '1.99']\n",
    "print(items_names)\n",
    "print(items_prices)"
   ]
  },
  {
   "cell_type": "code",
   "execution_count": 15,
   "metadata": {},
   "outputs": [
    {
     "name": "stdout",
     "output_type": "stream",
     "text": [
      "['T-Shirt', 'Short', 'Cap', 'Jacket', 'Socks', 'Shirt']\n",
      "[1.99, 4.99, 2.99, 49.99, '0.99', '1.99']\n"
     ]
    }
   ],
   "source": [
    "print(items_names[:])\n",
    "print(items_prices[:])"
   ]
  },
  {
   "cell_type": "code",
   "execution_count": 16,
   "metadata": {},
   "outputs": [
    {
     "name": "stdout",
     "output_type": "stream",
     "text": [
      "['T-Shirt', 'Short']\n",
      "[1.99, 4.99]\n"
     ]
    }
   ],
   "source": [
    "print(items_names[:2])\n",
    "print(items_prices[:2])"
   ]
  },
  {
   "cell_type": "code",
   "execution_count": 4,
   "metadata": {},
   "outputs": [
    {
     "name": "stdout",
     "output_type": "stream",
     "text": [
      "['T-Shirt', 'Short', 'Cap', 'Jacket', 'Test 1', 'Test 2']\n",
      "[1.99, 4.99, 2.99, 49.99, '1.99', '0.99']\n"
     ]
    }
   ],
   "source": [
    "items_names[4:6] = ['Shirt', 'Socks']\n",
    "items_prices[4:6] = ['1.99', '0.99']\n",
    "print(items_names)\n",
    "print(items_prices)"
   ]
  }
 ],
 "metadata": {
  "interpreter": {
   "hash": "aee8b7b246df8f9039afb4144a1f6fd8d2ca17a180786b69acc140d282b71a49"
  },
  "kernelspec": {
   "display_name": "Python 3.9.6 64-bit",
   "language": "python",
   "name": "python3"
  },
  "language_info": {
   "codemirror_mode": {
    "name": "ipython",
    "version": 3
   },
   "file_extension": ".py",
   "mimetype": "text/x-python",
   "name": "python",
   "nbconvert_exporter": "python",
   "pygments_lexer": "ipython3",
   "version": "3.9.6"
  },
  "orig_nbformat": 4
 },
 "nbformat": 4,
 "nbformat_minor": 2
}
