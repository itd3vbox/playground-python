{
 "cells": [
  {
   "cell_type": "code",
   "execution_count": 8,
   "metadata": {},
   "outputs": [
    {
     "data": {
      "text/plain": [
       "'package_user.module_users'"
      ]
     },
     "execution_count": 8,
     "metadata": {},
     "output_type": "execute_result"
    }
   ],
   "source": [
    "import package_user.module_users as libs\n",
    "\n",
    "libs.__name__"
   ]
  },
  {
   "cell_type": "code",
   "execution_count": 9,
   "metadata": {},
   "outputs": [
    {
     "name": "stdout",
     "output_type": "stream",
     "text": [
      "Create Data ...\n"
     ]
    }
   ],
   "source": [
    "import package_user.module_users as libs\n",
    "\n",
    "libs.users_create({ \n",
    "    'name': 'John Doe',\n",
    "    'email': 'johndoe@customer.com',\n",
    "    'password': 'customer1',\n",
    "})\n",
    "\n"
   ]
  },
  {
   "cell_type": "code",
   "execution_count": 10,
   "metadata": {},
   "outputs": [
    {
     "name": "stdout",
     "output_type": "stream",
     "text": [
      "Create Data ...\n",
      "Find User By id ...\n"
     ]
    }
   ],
   "source": [
    "from package_user.module_users import users_create, users_find_by_id\n",
    "\n",
    "users_create({ \n",
    "    'id': 1,\n",
    "    'name': 'John Doe',\n",
    "    'email': 'johndoe@customer.com',\n",
    "    'password': 'customer1',\n",
    "})\n",
    "\n",
    "users_find_by_id(1)"
   ]
  },
  {
   "cell_type": "code",
   "execution_count": 11,
   "metadata": {},
   "outputs": [
    {
     "name": "stdout",
     "output_type": "stream",
     "text": [
      "Create Data ...\n",
      "Find User By id ...\n"
     ]
    }
   ],
   "source": [
    "from package_user.module_users import users_create as uc, users_find_by_id as ufbi\n",
    "\n",
    "uc({ \n",
    "    'id': 1,\n",
    "    'name': 'John Doe',\n",
    "    'email': 'johndoe@customer.com',\n",
    "    'password': 'customer1',\n",
    "})\n",
    "\n",
    "ufbi(1)"
   ]
  },
  {
   "cell_type": "code",
   "execution_count": 12,
   "metadata": {},
   "outputs": [
    {
     "name": "stdout",
     "output_type": "stream",
     "text": [
      "Create Data ...\n",
      "Find User By id ...\n"
     ]
    }
   ],
   "source": [
    "from package_user.module_users import *\n",
    "\n",
    "users_create({ \n",
    "    'id': 1,\n",
    "    'name': 'John Doe',\n",
    "    'email': 'johndoe@customer.com',\n",
    "    'password': 'customer1',\n",
    "})\n",
    "\n",
    "users_find_by_id(1)"
   ]
  }
 ],
 "metadata": {
  "interpreter": {
   "hash": "aee8b7b246df8f9039afb4144a1f6fd8d2ca17a180786b69acc140d282b71a49"
  },
  "kernelspec": {
   "display_name": "Python 3.9.6 64-bit",
   "language": "python",
   "name": "python3"
  },
  "language_info": {
   "codemirror_mode": {
    "name": "ipython",
    "version": 3
   },
   "file_extension": ".py",
   "mimetype": "text/x-python",
   "name": "python",
   "nbconvert_exporter": "python",
   "pygments_lexer": "ipython3",
   "version": "3.9.6"
  },
  "orig_nbformat": 4
 },
 "nbformat": 4,
 "nbformat_minor": 2
}
