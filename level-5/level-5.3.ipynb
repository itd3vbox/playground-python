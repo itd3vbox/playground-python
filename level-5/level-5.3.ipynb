{
 "cells": [
  {
   "cell_type": "code",
   "execution_count": 2,
   "metadata": {},
   "outputs": [],
   "source": [
    "class User:\n",
    "\n",
    "    version = '1.0.v'\n",
    "\n",
    "    \"\"\" Init Function \"\"\"\n",
    "    def __init__(self, name, email, password):\n",
    "        self.name = name\n",
    "        self.email = email\n",
    "        self.password = password\n",
    "    \n",
    "    \"\"\" Show User \"\"\"\n",
    "    def show(self):\n",
    "        print(self.name, self.email, self.password)\n",
    "\n",
    "\n",
    "class Cutomer(User):\n",
    "\n",
    "    version = '1.0.v'\n",
    "\n",
    "    \"\"\" Init Function \"\"\"\n",
    "    def __init__(self, name, email, password):\n",
    "        super().__init__(name, email, password)\n",
    "    \n",
    "    \"\"\" Show User \"\"\"\n",
    "    def show(self):\n",
    "        super().show()\n",
    "        print('I am Customer')\n"
   ]
  },
  {
   "cell_type": "code",
   "execution_count": 3,
   "metadata": {},
   "outputs": [
    {
     "name": "stdout",
     "output_type": "stream",
     "text": [
      "1.0.v\n",
      "Jonh Doe johndoe@customer.com customer1\n",
      "1.0.v\n",
      "Jane Doe janedoe@customer.com customer2\n",
      "I am Customer\n"
     ]
    }
   ],
   "source": [
    "user_1 = User('Jonh Doe', 'johndoe@customer.com', 'customer1')\n",
    "print(user_1.version)\n",
    "user_1.show()\n",
    "\n",
    "user_2 = Cutomer('Jane Doe', 'janedoe@customer.com', 'customer2')\n",
    "print(user_2.version)\n",
    "user_2.show()"
   ]
  }
 ],
 "metadata": {
  "interpreter": {
   "hash": "aee8b7b246df8f9039afb4144a1f6fd8d2ca17a180786b69acc140d282b71a49"
  },
  "kernelspec": {
   "display_name": "Python 3.9.6 64-bit",
   "language": "python",
   "name": "python3"
  },
  "language_info": {
   "codemirror_mode": {
    "name": "ipython",
    "version": 3
   },
   "file_extension": ".py",
   "mimetype": "text/x-python",
   "name": "python",
   "nbconvert_exporter": "python",
   "pygments_lexer": "ipython3",
   "version": "3.9.6"
  },
  "orig_nbformat": 4
 },
 "nbformat": 4,
 "nbformat_minor": 2
}
